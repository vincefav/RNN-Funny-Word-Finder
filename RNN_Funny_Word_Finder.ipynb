{
  "nbformat": 4,
  "nbformat_minor": 0,
  "metadata": {
    "colab": {
      "name": "RNN Funny Word Finder",
      "version": "0.3.2",
      "provenance": [],
      "collapsed_sections": []
    },
    "kernelspec": {
      "name": "python3",
      "display_name": "Python 3"
    },
    "accelerator": "GPU"
  },
  "cells": [
    {
      "metadata": {
        "id": "vl6TU0NdX6zK",
        "colab_type": "code",
        "colab": {
          "base_uri": "https://localhost:8080/",
          "height": 36
        },
        "outputId": "d687d6cc-5e70-4a7b-f9d5-c53c36407749"
      },
      "cell_type": "code",
      "source": [
        "import pandas as pd\n",
        "import numpy as np\n",
        "import matplotlib.pyplot as plt\n",
        "import seaborn as sns\n",
        "sns.set_style(\"dark\")\n",
        "pd.set_option('display.float_format', lambda x: '{:.3f}'.format(x))\n",
        "\n",
        "from sklearn.model_selection import train_test_split, cross_val_score, GridSearchCV\n",
        "\n",
        "%pylab inline"
      ],
      "execution_count": 1,
      "outputs": [
        {
          "output_type": "stream",
          "text": [
            "Populating the interactive namespace from numpy and matplotlib\n"
          ],
          "name": "stdout"
        }
      ]
    },
    {
      "metadata": {
        "id": "xcuDdMVvYBB8",
        "colab_type": "code",
        "colab": {
          "base_uri": "https://localhost:8080/",
          "height": 206
        },
        "outputId": "bc13e258-3ae1-4a95-e1a8-a2920b524891"
      },
      "cell_type": "code",
      "source": [
        "data = pd.read_csv('https://raw.githubusercontent.com/vincefav/RNN-Humor/master/humor_dataset.csv')\n",
        "\n",
        "data.head()"
      ],
      "execution_count": 2,
      "outputs": [
        {
          "output_type": "execute_result",
          "data": {
            "text/html": [
              "<div>\n",
              "<style scoped>\n",
              "    .dataframe tbody tr th:only-of-type {\n",
              "        vertical-align: middle;\n",
              "    }\n",
              "\n",
              "    .dataframe tbody tr th {\n",
              "        vertical-align: top;\n",
              "    }\n",
              "\n",
              "    .dataframe thead th {\n",
              "        text-align: right;\n",
              "    }\n",
              "</style>\n",
              "<table border=\"1\" class=\"dataframe\">\n",
              "  <thead>\n",
              "    <tr style=\"text-align: right;\">\n",
              "      <th></th>\n",
              "      <th>word</th>\n",
              "      <th>mean</th>\n",
              "      <th>sd</th>\n",
              "      <th>n</th>\n",
              "      <th>mean_M</th>\n",
              "      <th>sd_M</th>\n",
              "      <th>n_M</th>\n",
              "      <th>mean_F</th>\n",
              "      <th>sd_F</th>\n",
              "      <th>n_F</th>\n",
              "      <th>mean_young</th>\n",
              "      <th>sd_young</th>\n",
              "      <th>n_young</th>\n",
              "      <th>mean_old</th>\n",
              "      <th>sd_old</th>\n",
              "      <th>n_old</th>\n",
              "    </tr>\n",
              "  </thead>\n",
              "  <tbody>\n",
              "    <tr>\n",
              "      <th>0</th>\n",
              "      <td>abbey</td>\n",
              "      <td>2.293</td>\n",
              "      <td>1.146</td>\n",
              "      <td>41</td>\n",
              "      <td>2.176</td>\n",
              "      <td>1.380</td>\n",
              "      <td>17</td>\n",
              "      <td>2.348</td>\n",
              "      <td>0.982</td>\n",
              "      <td>23</td>\n",
              "      <td>2.391</td>\n",
              "      <td>1.196</td>\n",
              "      <td>23</td>\n",
              "      <td>2.167</td>\n",
              "      <td>1.098</td>\n",
              "      <td>18</td>\n",
              "    </tr>\n",
              "    <tr>\n",
              "      <th>1</th>\n",
              "      <td>abode</td>\n",
              "      <td>2.414</td>\n",
              "      <td>1.119</td>\n",
              "      <td>29</td>\n",
              "      <td>2.100</td>\n",
              "      <td>0.994</td>\n",
              "      <td>10</td>\n",
              "      <td>2.579</td>\n",
              "      <td>1.170</td>\n",
              "      <td>19</td>\n",
              "      <td>2.692</td>\n",
              "      <td>1.182</td>\n",
              "      <td>13</td>\n",
              "      <td>2.188</td>\n",
              "      <td>1.047</td>\n",
              "      <td>16</td>\n",
              "    </tr>\n",
              "    <tr>\n",
              "      <th>2</th>\n",
              "      <td>abscess</td>\n",
              "      <td>1.594</td>\n",
              "      <td>1.043</td>\n",
              "      <td>32</td>\n",
              "      <td>1.625</td>\n",
              "      <td>1.188</td>\n",
              "      <td>8</td>\n",
              "      <td>1.583</td>\n",
              "      <td>1.018</td>\n",
              "      <td>24</td>\n",
              "      <td>1.556</td>\n",
              "      <td>1.042</td>\n",
              "      <td>18</td>\n",
              "      <td>1.643</td>\n",
              "      <td>1.082</td>\n",
              "      <td>14</td>\n",
              "    </tr>\n",
              "    <tr>\n",
              "      <th>3</th>\n",
              "      <td>absence</td>\n",
              "      <td>1.640</td>\n",
              "      <td>0.952</td>\n",
              "      <td>25</td>\n",
              "      <td>1.615</td>\n",
              "      <td>0.961</td>\n",
              "      <td>13</td>\n",
              "      <td>1.667</td>\n",
              "      <td>0.985</td>\n",
              "      <td>12</td>\n",
              "      <td>1.571</td>\n",
              "      <td>0.852</td>\n",
              "      <td>14</td>\n",
              "      <td>1.727</td>\n",
              "      <td>1.104</td>\n",
              "      <td>11</td>\n",
              "    </tr>\n",
              "    <tr>\n",
              "      <th>4</th>\n",
              "      <td>abstract</td>\n",
              "      <td>2.412</td>\n",
              "      <td>1.282</td>\n",
              "      <td>34</td>\n",
              "      <td>1.933</td>\n",
              "      <td>1.033</td>\n",
              "      <td>15</td>\n",
              "      <td>2.789</td>\n",
              "      <td>1.357</td>\n",
              "      <td>19</td>\n",
              "      <td>2.421</td>\n",
              "      <td>1.121</td>\n",
              "      <td>19</td>\n",
              "      <td>2.400</td>\n",
              "      <td>1.502</td>\n",
              "      <td>15</td>\n",
              "    </tr>\n",
              "  </tbody>\n",
              "</table>\n",
              "</div>"
            ],
            "text/plain": [
              "       word  mean    sd   n  mean_M  sd_M  n_M  mean_F  sd_F  n_F  mean_young  \\\n",
              "0     abbey 2.293 1.146  41   2.176 1.380   17   2.348 0.982   23       2.391   \n",
              "1     abode 2.414 1.119  29   2.100 0.994   10   2.579 1.170   19       2.692   \n",
              "2   abscess 1.594 1.043  32   1.625 1.188    8   1.583 1.018   24       1.556   \n",
              "3   absence 1.640 0.952  25   1.615 0.961   13   1.667 0.985   12       1.571   \n",
              "4  abstract 2.412 1.282  34   1.933 1.033   15   2.789 1.357   19       2.421   \n",
              "\n",
              "   sd_young  n_young  mean_old  sd_old  n_old  \n",
              "0     1.196       23     2.167   1.098     18  \n",
              "1     1.182       13     2.188   1.047     16  \n",
              "2     1.042       18     1.643   1.082     14  \n",
              "3     0.852       14     1.727   1.104     11  \n",
              "4     1.121       19     2.400   1.502     15  "
            ]
          },
          "metadata": {
            "tags": []
          },
          "execution_count": 2
        }
      ]
    },
    {
      "metadata": {
        "id": "3jRIunmpYyom",
        "colab_type": "code",
        "colab": {}
      },
      "cell_type": "code",
      "source": [
        "words = list(data['word'])\n",
        "words = [i.lower() for i in words]"
      ],
      "execution_count": 0,
      "outputs": []
    },
    {
      "metadata": {
        "id": "0mtZNhQgZAAA",
        "colab_type": "code",
        "colab": {
          "base_uri": "https://localhost:8080/",
          "height": 36
        },
        "outputId": "8f784a40-236e-4566-c8b6-1e0c7599cee8"
      },
      "cell_type": "code",
      "source": [
        "chars = set(sorted(\" \".join(words)))\n",
        "print('total chars:', len(chars))\n",
        "char_indices = dict((c, i) for i, c in enumerate(chars))\n",
        "indices_char = dict((i, c) for i, c in enumerate(chars))"
      ],
      "execution_count": 4,
      "outputs": [
        {
          "output_type": "stream",
          "text": [
            "total chars: 27\n"
          ],
          "name": "stdout"
        }
      ]
    },
    {
      "metadata": {
        "id": "au6KYI0ZZBgF",
        "colab_type": "code",
        "colab": {}
      },
      "cell_type": "code",
      "source": [
        "words = [list(i) for i in words]\n",
        "for word in words:\n",
        "  for ix, letter in enumerate(word):\n",
        "    word[ix] = char_indices[word[ix]]"
      ],
      "execution_count": 0,
      "outputs": []
    },
    {
      "metadata": {
        "id": "Vuc6vFdoZHeV",
        "colab_type": "code",
        "colab": {
          "base_uri": "https://localhost:8080/",
          "height": 36
        },
        "outputId": "eebba7e9-8c0c-495e-b1a6-572e22545fe0"
      },
      "cell_type": "code",
      "source": [
        "from keras.preprocessing import sequence\n",
        "from keras.models import Sequential\n",
        "from keras.layers import Dense, Embedding\n",
        "from keras.layers import LSTM"
      ],
      "execution_count": 6,
      "outputs": [
        {
          "output_type": "stream",
          "text": [
            "Using TensorFlow backend.\n"
          ],
          "name": "stderr"
        }
      ]
    },
    {
      "metadata": {
        "id": "bdgKWESOZToc",
        "colab_type": "code",
        "colab": {
          "base_uri": "https://localhost:8080/",
          "height": 55
        },
        "outputId": "599797cc-6ff7-4ef0-882a-6eedabc0e0ac"
      },
      "cell_type": "code",
      "source": [
        "maxlen = 25\n",
        "\n",
        "print('Pad sequences (samples x time)')\n",
        "x = sequence.pad_sequences(words, maxlen=maxlen)\n",
        "print('x shape:', x.shape)"
      ],
      "execution_count": 7,
      "outputs": [
        {
          "output_type": "stream",
          "text": [
            "Pad sequences (samples x time)\n",
            "x shape: (4997, 25)\n"
          ],
          "name": "stdout"
        }
      ]
    },
    {
      "metadata": {
        "id": "rlSeGn2ba-ym",
        "colab_type": "code",
        "colab": {}
      },
      "cell_type": "code",
      "source": [
        "y = data['mean']"
      ],
      "execution_count": 0,
      "outputs": []
    },
    {
      "metadata": {
        "id": "LGPybHwabuDp",
        "colab_type": "code",
        "colab": {}
      },
      "cell_type": "code",
      "source": [
        "xtrain, xtest, ytrain, ytest = train_test_split(x, y, test_size=.2)"
      ],
      "execution_count": 0,
      "outputs": []
    },
    {
      "metadata": {
        "id": "BFcZ4hg1g1lV",
        "colab_type": "code",
        "colab": {
          "base_uri": "https://localhost:8080/",
          "height": 302
        },
        "outputId": "560ae105-8fe1-442f-c839-c2e2cfe629e5"
      },
      "cell_type": "code",
      "source": [
        "print('Build model...')\n",
        "model = Sequential()\n",
        "model.add(Embedding(27, 128))\n",
        "model.add(LSTM(64, dropout=0.2, recurrent_dropout=0.2, return_sequences=True))\n",
        "model.add(LSTM(64, dropout=0.2, recurrent_dropout=0.2))\n",
        "model.add(Dense(1))\n",
        "\n",
        "# try using different optimizers and different optimizer configs\n",
        "model.compile(loss='mean_squared_error',\n",
        "              optimizer='rmsprop',\n",
        "              metrics=['mse'])\n",
        "\n",
        "print('Train...')\n",
        "model.fit(xtrain, ytrain,\n",
        "          batch_size=16,\n",
        "          epochs=5,\n",
        "          validation_data=(xtest, ytest))"
      ],
      "execution_count": 10,
      "outputs": [
        {
          "output_type": "stream",
          "text": [
            "Build model...\n",
            "Train...\n",
            "Train on 3997 samples, validate on 1000 samples\n",
            "Epoch 1/5\n",
            "3997/3997 [==============================] - 41s 10ms/step - loss: 0.2792 - mean_squared_error: 0.2792 - val_loss: 0.2046 - val_mean_squared_error: 0.2046\n",
            "Epoch 2/5\n",
            "2560/3997 [==================>...........] - ETA: 13s - loss: 0.1802 - mean_squared_error: 0.1802"
          ],
          "name": "stdout"
        },
        {
          "output_type": "stream",
          "text": [
            "3997/3997 [==============================] - 40s 10ms/step - loss: 0.1820 - mean_squared_error: 0.1820 - val_loss: 0.2062 - val_mean_squared_error: 0.2062\n",
            "Epoch 3/5\n",
            "3997/3997 [==============================] - 39s 10ms/step - loss: 0.1785 - mean_squared_error: 0.1785 - val_loss: 0.2019 - val_mean_squared_error: 0.2019\n",
            "Epoch 4/5\n",
            " 960/3997 [======>.......................] - ETA: 28s - loss: 0.1849 - mean_squared_error: 0.1849"
          ],
          "name": "stdout"
        },
        {
          "output_type": "stream",
          "text": [
            "3997/3997 [==============================] - 40s 10ms/step - loss: 0.1753 - mean_squared_error: 0.1753 - val_loss: 0.2038 - val_mean_squared_error: 0.2038\n",
            "Epoch 5/5\n",
            "3997/3997 [==============================] - 40s 10ms/step - loss: 0.1730 - mean_squared_error: 0.1730 - val_loss: 0.2108 - val_mean_squared_error: 0.2108\n"
          ],
          "name": "stdout"
        },
        {
          "output_type": "execute_result",
          "data": {
            "text/plain": [
              "<keras.callbacks.History at 0x7f1dcb18fdd8>"
            ]
          },
          "metadata": {
            "tags": []
          },
          "execution_count": 10
        }
      ]
    },
    {
      "metadata": {
        "id": "w4NNwGq1hZXr",
        "colab_type": "code",
        "colab": {}
      },
      "cell_type": "code",
      "source": [
        "def predict(word):\n",
        "  word = [char_indices[i] for i in word]\n",
        "  word = sequence.pad_sequences([word], maxlen=maxlen)\n",
        "\n",
        "  return model.predict(word)[0][0]"
      ],
      "execution_count": 0,
      "outputs": []
    },
    {
      "metadata": {
        "id": "KCxVJRPsi2_H",
        "colab_type": "code",
        "colab": {
          "base_uri": "https://localhost:8080/",
          "height": 36
        },
        "outputId": "69f55811-29af-459c-84e1-5e7787105bc7"
      },
      "cell_type": "code",
      "source": [
        "predict('doggo')"
      ],
      "execution_count": 12,
      "outputs": [
        {
          "output_type": "execute_result",
          "data": {
            "text/plain": [
              "2.608596"
            ]
          },
          "metadata": {
            "tags": []
          },
          "execution_count": 12
        }
      ]
    },
    {
      "metadata": {
        "id": "byFsb0yXjRlX",
        "colab_type": "code",
        "colab": {
          "base_uri": "https://localhost:8080/",
          "height": 36
        },
        "outputId": "1f836505-fc58-4e9a-f3e9-c4e33b2aa655"
      },
      "cell_type": "code",
      "source": [
        "predict('doggy')"
      ],
      "execution_count": 13,
      "outputs": [
        {
          "output_type": "execute_result",
          "data": {
            "text/plain": [
              "2.7184813"
            ]
          },
          "metadata": {
            "tags": []
          },
          "execution_count": 13
        }
      ]
    },
    {
      "metadata": {
        "id": "8vQQNmWwjS9W",
        "colab_type": "code",
        "colab": {
          "base_uri": "https://localhost:8080/",
          "height": 36
        },
        "outputId": "5b38885d-559c-4762-ec94-611143a9e304"
      },
      "cell_type": "code",
      "source": [
        "predict('flimflam')"
      ],
      "execution_count": 14,
      "outputs": [
        {
          "output_type": "execute_result",
          "data": {
            "text/plain": [
              "2.3478727"
            ]
          },
          "metadata": {
            "tags": []
          },
          "execution_count": 14
        }
      ]
    },
    {
      "metadata": {
        "id": "wbamVy2ljVp3",
        "colab_type": "code",
        "colab": {
          "base_uri": "https://localhost:8080/",
          "height": 36
        },
        "outputId": "38582fda-041d-4095-d0c7-d1516ef19518"
      },
      "cell_type": "code",
      "source": [
        "predict('bookworm')"
      ],
      "execution_count": 15,
      "outputs": [
        {
          "output_type": "execute_result",
          "data": {
            "text/plain": [
              "2.4892282"
            ]
          },
          "metadata": {
            "tags": []
          },
          "execution_count": 15
        }
      ]
    },
    {
      "metadata": {
        "id": "worACv7gjseu",
        "colab_type": "code",
        "colab": {
          "base_uri": "https://localhost:8080/",
          "height": 225
        },
        "outputId": "741e41a7-bc5b-4636-ed78-f738858d996f"
      },
      "cell_type": "code",
      "source": [
        "from random import choice\n",
        "\n",
        "preds = []\n",
        "\n",
        "for i in range(1005):\n",
        "  w = choice(list(data['word'].str.lower()))\n",
        "  p = predict(w)\n",
        "  preds.append(p)\n",
        "  if p > 2.77:\n",
        "    print(f'*** {w} is funny! ({p})')\n",
        "  elif p < 2.14:\n",
        "    print(f'{w} is not very funny. ({p})')\n",
        "  \n",
        "preds = pd.Series(preds)"
      ],
      "execution_count": 21,
      "outputs": [
        {
          "output_type": "stream",
          "text": [
            "earnest is not very funny. (2.1274287700653076)\n",
            "terrain is not very funny. (2.1324429512023926)\n",
            "*** grizzly is funny! (2.7722322940826416)\n",
            "*** ducky is funny! (2.7989766597747803)\n",
            "*** bubbly is funny! (2.8620352745056152)\n",
            "*** ducky is funny! (2.7989766597747803)\n",
            "*** dummy is funny! (2.78082537651062)\n",
            "*** bubbly is funny! (2.8620352745056152)\n",
            "*** fuzz is funny! (2.958644151687622)\n",
            "savant is not very funny. (2.135618209838867)\n",
            "extent is not very funny. (2.1261260509490967)\n"
          ],
          "name": "stdout"
        }
      ]
    },
    {
      "metadata": {
        "id": "PXVhkHmyjt-O",
        "colab_type": "code",
        "colab": {
          "base_uri": "https://localhost:8080/",
          "height": 284
        },
        "outputId": "adc3f59e-c8de-4e0c-be3b-57d4a5b2f95e"
      },
      "cell_type": "code",
      "source": [
        "preds.hist()"
      ],
      "execution_count": 20,
      "outputs": [
        {
          "output_type": "execute_result",
          "data": {
            "text/plain": [
              "<matplotlib.axes._subplots.AxesSubplot at 0x7f1da32f7eb8>"
            ]
          },
          "metadata": {
            "tags": []
          },
          "execution_count": 20
        },
        {
          "output_type": "display_data",
          "data": {
            "image/png": "[encoded data removed]",
            "text/plain": [
              "<matplotlib.figure.Figure at 0x7f1da324ddd8>"
            ]
          },
          "metadata": {
            "tags": []
          }
        }
      ]
    },
    {
      "metadata": {
        "id": "YPkEsec0rPvk",
        "colab_type": "code",
        "colab": {}
      },
      "cell_type": "code",
      "source": [
        ""
      ],
      "execution_count": 0,
      "outputs": []
    }
  ]
}